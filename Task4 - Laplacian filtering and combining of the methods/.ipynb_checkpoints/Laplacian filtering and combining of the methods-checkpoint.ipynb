{
 "cells": [
  {
   "cell_type": "markdown",
   "metadata": {},
   "source": [
    "# Laplacian filtering and combining of the methods\n",
    "\n",
    "**Author: Uzhva Denis Romanovich**\n",
    "\n",
    "**Lecturer: Soloviev Igor Pavlovich**"
   ]
  },
  {
   "cell_type": "markdown",
   "metadata": {},
   "source": [
    "## Laplacian filtering\n",
    "### Theory\n",
    "\n",
    "Laplacian filtering is a type of spatial filtering aiming to sharpen an image.\n",
    "Unlike box or weighted average filtering, which use the concept of an integral, laplacian is based on a derivatives.\n",
    "Concerning the fact that we process discrete images, the derivatives thus become differences.\n",
    "E.g., consider the 2-dimensional laplacian operator:\n",
    "$$\n",
    "\\begin{equation}\n",
    "\\nabla^2 = \\frac{\\partial^2}{\\partial x^2} + \\frac{\\partial^2}{\\partial y^2}.\n",
    "\\tag{1}\n",
    "\\end{equation}\n",
    "$$\n",
    "Let $A \\in \\overline{0, 255}^{M \\times N}$ be an $M \\times N$ matrix of the image, containing values of intensity of corresponding pixels.\n",
    "Let also $\\widehat{A} \\in \\overline{0, 255}^{M + 2a \\times N + 2b}$ be a padded $A$, i.e. $\\widehat{A}_{i+a, j + a} = A_{i, j}$.\n",
    "Then the discrete form of the laplacian would be defined as follows:\n",
    "$$\n",
    "\\begin{equation}\n",
    "\\nabla^2 \\widehat{A}_{i, j} = \\widehat{A}_{i+1, j} + \\widehat{A}_{i, j+1} + \\widehat{A}_{i-1, j} + \\widehat{A}_{i, j-1} - 4 \\widehat{A}_{i, j},\n",
    "\\tag{2}\n",
    "\\end{equation}\n",
    "$$\n",
    "where $i \\in \\overline{2, M-1}$ and $j \\in \\overline{2, N-1}$.\n",
    "Another definition is the following:\n",
    "$$\n",
    "\\begin{equation}\n",
    "\\nabla^2 \\widehat{A}_{i, j} = \\widehat{A}_{i+1, j} + \\widehat{A}_{i, j+1} + \\widehat{A}_{i-1, j} + \\widehat{A}_{i, j-1} + \\widehat{A}_{i+1, j+1} + \\widehat{A}_{i-1, j+1} + \\widehat{A}_{i-1, j+1} + \\widehat{A}_{i-1, j-1} - 8 \\widehat{A}_{i, j},\n",
    "\\tag{3}\n",
    "\\end{equation}\n",
    "$$\n",
    "and the main advantage of it over the equation (2) is that it considers diagonals.\n",
    "\n",
    "Finally, the result of application of the laplacian can be expressed by the following formula:\n",
    "$$\n",
    "\\begin{equation}\n",
    "B = A + c \\nabla^2 \\widehat{A},\n",
    "\\tag{4}\n",
    "\\end{equation}\n",
    "$$\n",
    "so that the result is the original image plus the extracted edges (which we want to highlight) times constant $c$, which may vary."
   ]
  },
  {
   "cell_type": "markdown",
   "metadata": {},
   "source": [
    "### Code"
   ]
  },
  {
   "cell_type": "markdown",
   "metadata": {},
   "source": [
    "#### Laplacian filter"
   ]
  },
  {
   "cell_type": "code",
   "execution_count": 1,
   "metadata": {},
   "outputs": [],
   "source": [
    "import numpy as np\n",
    "\n",
    "\n",
    "def apply_lapl(img, filt, c=1.):\n",
    "    h = img.shape[0]\n",
    "    w = img.shape[1]\n",
    "    ker_size = filt.shape[0]\n",
    "    pad_size = (ker_size - 1) // 2\n",
    "    \n",
    "    edg_ext = np.zeros_like(img, dtype=float)\n",
    "   \n",
    "    img_padded = np.zeros((h + 2 * pad_size, w + 2 * pad_size, channels))\n",
    "    img_padded[pad_size:-pad_size, pad_size:-pad_size, :] = img\n",
    "    \n",
    "    for i in range(ker_size):\n",
    "        for j in range(ker_size):\n",
    "            ker_multiplier = filt[i, j]\n",
    "            edg_ext = img_new + ker_multiplier * img_padded[i:i+h, j:j+h]\n",
    "                \n",
    "    edg_ext = c * edg_ext\n",
    "    \n",
    "    img_new = np.zeros_like(img, dtype=float)\n",
    "    img_new = img + edg_ext\n",
    "    img_new = 255 * img_new / np.max(img_new)\n",
    "    img_new = img_new.astype(np.uint8)\n",
    "    \n",
    "    return img_new, edg_ext"
   ]
  },
  {
   "cell_type": "markdown",
   "metadata": {},
   "source": [
    "#### Make laplacian kernel"
   ]
  },
  {
   "cell_type": "code",
   "execution_count": null,
   "metadata": {},
   "outputs": [],
   "source": [
    "import numpy as np\n",
    "\n",
    "\n",
    "def get_laplacian_kernel(diag=False):\n",
    "    kernel = np.zeros((3, 3))\n",
    "    if diag:\n",
    "        kernel[:, :] = 1\n",
    "        kernel[1, 1] = -8\n",
    "    else:\n",
    "        kernel[1, :] = 1\n",
    "        kernel[:, 1] = 1\n",
    "        kernel[1, 1] = -4\n",
    "            \n",
    "    return kernel"
   ]
  }
 ],
 "metadata": {
  "kernelspec": {
   "display_name": "Python 3",
   "language": "python",
   "name": "python3"
  },
  "language_info": {
   "codemirror_mode": {
    "name": "ipython",
    "version": 3
   },
   "file_extension": ".py",
   "mimetype": "text/x-python",
   "name": "python",
   "nbconvert_exporter": "python",
   "pygments_lexer": "ipython3",
   "version": "3.6.9"
  }
 },
 "nbformat": 4,
 "nbformat_minor": 2
}
