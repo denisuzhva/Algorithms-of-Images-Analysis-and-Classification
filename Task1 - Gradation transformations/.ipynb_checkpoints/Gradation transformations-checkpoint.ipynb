{
 "cells": [
  {
   "cell_type": "markdown",
   "metadata": {},
   "source": [
    "# Gradation transformations (point operations)\n",
    "\n",
    "**Author: Uzhva Denis Romanovich**\n",
    "\n",
    "**Lecturer: Soloviev Igor Pavlovich**"
   ]
  },
  {
   "cell_type": "markdown",
   "metadata": {},
   "source": [
    "## Linear and piecewise linear transformations\n",
    "### Theory\n",
    "\n",
    "A piecewise linear transformation function allows to perform contrast stretching. An example of such a function is shown in Figure 1 ($L - 1$ is the value of maximum intensity level of an image).\n",
    "\n",
    "<p>\n",
    "    <img src=\"./pl.jpg\" alt=\"pl\"/>\n",
    "    <br>\n",
    "    <div align=\"center\">\n",
    "        <em>Fig.1: A piecewise linear transformation function</em>\n",
    "    </div>\n",
    "</p>\n",
    "\n",
    "Let $r_m = \\frac{r_2 - r_1}{2}$, $r_1 > s_1$ and $r_2 < s_2$. Then such a transformation works as a \"compressor\" in the range $(r_m, L-1]$ in a sense it boosts upper-mid values of an intensity.\n",
    "On the other hand, the transformation behaves as an \"expander\" in the range $[0, r_m)$, hindering the lower-mid intensities to develop.\n",
    "\n",
    "One may notice that when $r_1 = s_1$ and $r_2 = s_2$, the transformation function becomes *linear*. \n",
    "This case corresponds to a one-to-one mapping. \n",
    "Another interesting instance is when $s_1 = 0$, $s_2 = L - 1$ and $r_1 = r_2 = m$ &mdash; in this case the $s(r)$ is called a *thresholding function*. \n",
    "The constant $m$ is often chosen as the mean intensity level in an image. "
   ]
  },
  {
   "cell_type": "markdown",
   "metadata": {},
   "source": [
    "### Code"
   ]
  },
  {
   "cell_type": "markdown",
   "metadata": {},
   "source": [
    "#### A piecewise linear transformation function"
   ]
  },
  {
   "cell_type": "code",
   "execution_count": 1,
   "metadata": {},
   "outputs": [],
   "source": [
    "import numpy as np\n",
    "\n",
    "\n",
    "def pwl_transform(img, r1=.5, r2=.5, s1=0., s2=1.): # the values are normalized to the range [0, 1]\n",
    "    \n",
    "    # normalize the image\n",
    "    img_norm = img / 255.\n",
    "    \n",
    "    # calculate the coefficients for the equation y = mx + b \n",
    "    k1 = s1 / r1\n",
    "    k2 = (s2 - s1) / (r2 - r1)\n",
    "    b2 = (r2*s1 - r1*s2) / (r2 - r1)\n",
    "    k3 = (1 - s2) / (1 - r2)\n",
    "    b3 = (s2 - r2) / (1 - r2)\n",
    "    \n",
    "    # transform the three intensity zones separately\n",
    "    img_new_norm = img_norm\n",
    "    img_1_idx = img_norm < r1\n",
    "    img_temp = np.zeros_like(img_norm, dtype=np.float32)\n",
    "    img_temp[img_norm >= r1] = 1.\n",
    "    img_temp[img_norm >= r2] = 0.\n",
    "    img_2_idx = img_temp == 1.\n",
    "    img_3_idx = img_norm >= r2\n",
    "    \n",
    "    img_new_norm[img_1_idx] = k1 * img_norm[img_1_idx]\n",
    "    img_new_norm[img_2_idx] = k2 * img_norm[img_2_idx] + b2\n",
    "    img_new_norm[img_3_idx] = k3 * img_norm[img_3_idx] + b3\n",
    "    \n",
    "    img_new = img_new_norm * 255.\n",
    "    \n",
    "    return img_new"
   ]
  },
  {
   "cell_type": "markdown",
   "metadata": {},
   "source": [
    "#### A threshold transformation funtion\n",
    "\n",
    "For the sake of stable numerical computation, the threshold function is better to be written with an \"if ... else\" statement"
   ]
  },
  {
   "cell_type": "code",
   "execution_count": 2,
   "metadata": {},
   "outputs": [],
   "source": [
    "import numpy as np\n",
    "\n",
    "\n",
    "def trsh_transform(img, m):\n",
    "    \n",
    "    # use the pwl_transform function to obtain results\n",
    "    img_new = np.zeros_like(img)\n",
    "    img_new[img > m] = 255\n",
    "    \n",
    "    return img_new"
   ]
  },
  {
   "cell_type": "markdown",
   "metadata": {},
   "source": [
    "### Results"
   ]
  },
  {
   "cell_type": "markdown",
   "metadata": {},
   "source": [
    "#### Processing"
   ]
  },
  {
   "cell_type": "markdown",
   "metadata": {},
   "source": [
    "First of all, we need to load images for the further processing:"
   ]
  },
  {
   "cell_type": "code",
   "execution_count": 3,
   "metadata": {},
   "outputs": [],
   "source": [
    "import numpy as np\n",
    "from PIL import Image\n",
    "\n",
    "\n",
    "# From R. Gonzales, R. Woods \"Digital Image Processing\"\n",
    "img_1 = Image.open('./eins.tif')\n",
    "# https://dipandcvofgong.wordpress.com/2011/08/02/image-processing-multi-spectral-image-thresholding-smoothing-with-a-rotating-mask/\n",
    "img_2 = Image.open('./map.jpg')\n",
    "# From R. Gonzales, R. Woods \"Digital Image Processing\"\n",
    "img_3 = Image.open('./cam.tif')"
   ]
  },
  {
   "cell_type": "markdown",
   "metadata": {},
   "source": [
    "Now we can perform the procedure of contrast stretching (note that the 1st image has only one channel, while the second one has three of them):"
   ]
  },
  {
   "cell_type": "code",
   "execution_count": 4,
   "metadata": {},
   "outputs": [
    {
     "name": "stdout",
     "output_type": "stream",
     "text": [
      "1st and 2nd picture dimensions:\n",
      "(600, 490)\n",
      "(691, 1048, 3)\n",
      "(256, 256)\n"
     ]
    }
   ],
   "source": [
    "# represent the images as tensors\n",
    "img_1_np = np.array(img_1)\n",
    "img_2_np = np.array(img_2)\n",
    "img_3_np = np.array(img_3)\n",
    "print('Picture dimensions:')\n",
    "print(img_1_np.shape)\n",
    "print(img_2_np.shape)\n",
    "print(img_3_np.shape)"
   ]
  },
  {
   "cell_type": "code",
   "execution_count": 5,
   "metadata": {},
   "outputs": [],
   "source": [
    "# arbitrary values\n",
    "img_1_np_pwl = pwl_transform(img_1_np, .35, .65, .15, .85)\n",
    "img_1_pwl = Image.fromarray(img_1_np_pwl.astype(np.uint8))"
   ]
  },
  {
   "cell_type": "code",
   "execution_count": 6,
   "metadata": {},
   "outputs": [
    {
     "name": "stdout",
     "output_type": "stream",
     "text": [
      "Min values:\n",
      "[144 145 145]\n",
      "Max values:\n",
      "[227 226 223]\n"
     ]
    }
   ],
   "source": [
    "# using min and max \n",
    "img_2_min = img_2_np.min(axis=(0, 1))\n",
    "img_2_max = img_2_np.max(axis=(0, 1))\n",
    "print('Min values:')\n",
    "print(img_2_min)\n",
    "print('Max values:')\n",
    "print(img_2_max)\n",
    "\n",
    "img_2_np_pwl = np.zeros_like(img_2_np)\n",
    "for channel in range(3):\n",
    "    img_2_np_pwl[:, :, channel] = pwl_transform(img_2_np[:, :, channel],\n",
    "                                                img_2_min[channel] / 255,\n",
    "                                                img_2_max[channel] / 255,\n",
    "                                                0., 1.)\n",
    "img_2_pwl = Image.fromarray(img_2_np_pwl.astype(np.uint8))"
   ]
  },
  {
   "cell_type": "code",
   "execution_count": 7,
   "metadata": {},
   "outputs": [],
   "source": [
    "# using the threshold transform\n",
    "img_3_mean = np.mean(img_3_np)\n",
    "img_3_np_trsh = trsh_transform(img_3_np, img_3_mean)\n",
    "img_3_trsh = Image.fromarray(img_3_np_trsh.astype(np.uint8))"
   ]
  },
  {
   "cell_type": "code",
   "execution_count": 8,
   "metadata": {},
   "outputs": [],
   "source": [
    "# save the results (and originals) as PNG\n",
    "img_1 = Image.fromarray(img_1_np.astype(np.uint8))\n",
    "img_2 = Image.fromarray(img_2_np.astype(np.uint8))\n",
    "img_3 = Image.fromarray(img_3_np.astype(np.uint8))\n",
    "img_1_pwl.save('./eins_pwl.png')\n",
    "img_1.save('./eins.png')\n",
    "img_2_pwl.save('./map_pwl.png')\n",
    "img_2.save('./map.png')\n",
    "img_3_trsh.save('./cam_trsh.png')\n",
    "img_3.save('./cam.png')"
   ]
  },
  {
   "cell_type": "markdown",
   "metadata": {},
   "source": [
    "#### Visualization"
   ]
  },
  {
   "cell_type": "markdown",
   "metadata": {},
   "source": [
    "The 1st image (a photo of Albert Einstein) was processed by the piecewise linear transformation with parameters $r_1 = 0.35$, $r_2 = 0.65$, $s_1 = 0.15$ and $s_2 = 0.85$. \n",
    "The results are shown on the Figure 2.\n",
    "It is clear that the photo became better.\n",
    "\n",
    "<p>\n",
    "    <br>\n",
    "    <img src=\"./eins.png\" align=\"left\"/> <img src=\"./eins_pwl.png\" align=\"left\"/>\n",
    "    <br>\n",
    "    <br>\n",
    "    <div align=\"center\">\n",
    "        <em>Fig.2: A photo of Albert Einstein before and after a piecewise linear transformation</em>\n",
    "    </div>\n",
    "</p>"
   ]
  },
  {
   "cell_type": "markdown",
   "metadata": {},
   "source": [
    "The 2nd image (a satellite photo) was processed by the piecewise linear transformation with parameters $r_1 = r_{min}$ (minimum value of intensity), $r_2 = r_{max}$ (maximum value of intensity), $s_1 = 0$ and $s_2 = 255$. The results are shown on the Figure 3. It is clear that the photo is now looks superiorly.\n",
    "\n",
    "<p>\n",
    "    <br>\n",
    "    <img src=\"./map.png\" align=\"left\" style=\"width:50%\"/> <img src=\"./map_pwl.png\" align=\"left\" style=\"width:50%\"/>\n",
    "    <br>\n",
    "    <br>\n",
    "    <div align=\"center\">\n",
    "        <em>Fig.3: A satellite photo before and after a piecewise linear transformation</em>\n",
    "    </div>\n",
    "</p>"
   ]
  },
  {
   "cell_type": "markdown",
   "metadata": {},
   "source": [
    "The 3rd image (a photo of a photographer or a cameraman) was processed by the threshold transformation with the parameter $m$ set as a mean value of the intensities. The results are shown on the Figure 4. Thus, one may use this transformation for a task of segmentation.\n",
    "\n",
    "<p>\n",
    "    <br>\n",
    "    <img src=\"./cam.png\" align=\"left\" style=\"width:50%\"/> <img src=\"./cam_trsh.png\" align=\"left\" style=\"width:50%\"/>\n",
    "    <br>\n",
    "    <br>\n",
    "    <div align=\"center\">\n",
    "        <em>Fig.4: A photo of a photographer before and after a threshold transformation</em>\n",
    "    </div>\n",
    "</p>"
   ]
  },
  {
   "cell_type": "markdown",
   "metadata": {},
   "source": [
    "## Negative, logarithmic and power-law transformations\n",
    "### Theory\n",
    "\n",
    "In order to understand the negative transformation as a logical extension of the piecewise linear one, let $r_1 = 0$, $r_2 = L - 1$, $s_1 = L - 1$, $s_2 = 0$. \n",
    "With that in mind, the negative transformation function is basically an inverse one-to-one mapping:\n",
    "$$\n",
    "s = L - 1 - r\n",
    "$$\n",
    "\n",
    "The logarithmic transformation can be represented by the following equation:\n",
    "$$\n",
    "s = c \\cdot \\log(1 + r),\n",
    "$$\n",
    "where $c$ is a constant, and it is assumed that $r \\geq 0$.\n",
    "\n",
    "The power-law transformation (also known as the gamma correction) follows the next equation:\n",
    "$$\n",
    "s = c \\cdot r^{\\gamma},\n",
    "$$\n",
    "where $c \\geq 0$ and $\\gamma \\geq 0$ are constants.\n",
    "\n",
    "It is convenient to visualize the equations described above (Figure 5).\n",
    "\n",
    "<p>\n",
    "    <img src=\"./nlp.jpg\" alt=\"nlp\" style=\"width:50%\"/>\n",
    "    <br>\n",
    "    <div align=\"center\">\n",
    "        <em>Fig.5: negative, logarithmic and power-law transformations</em>\n",
    "    </div>\n",
    "</p>"
   ]
  },
  {
   "cell_type": "markdown",
   "metadata": {},
   "source": [
    "### Code"
   ]
  },
  {
   "cell_type": "markdown",
   "metadata": {},
   "source": [
    "#### A negative transformation function"
   ]
  },
  {
   "cell_type": "code",
   "execution_count": 9,
   "metadata": {},
   "outputs": [],
   "source": [
    "def neg_transform(img):\n",
    "   \n",
    "    img_new = 255 - img\n",
    "    \n",
    "    return img_new"
   ]
  },
  {
   "cell_type": "markdown",
   "metadata": {},
   "source": [
    "#### A logarithmic transformation"
   ]
  },
  {
   "cell_type": "code",
   "execution_count": 10,
   "metadata": {},
   "outputs": [],
   "source": [
    "import numpy as np\n",
    "\n",
    "\n",
    "def log_transform(img, c=1.):\n",
    "   \n",
    "    img_norm = img / 255.\n",
    "    img_norm_new = c * np.log2(img_norm + 1)\n",
    "    if img_norm_new.max() > 1.:\n",
    "        img_norm_new = img_norm_new / img_norm_new.max()\n",
    "    img_new = img_norm_new * 255\n",
    "    \n",
    "    return img_new"
   ]
  },
  {
   "cell_type": "markdown",
   "metadata": {},
   "source": [
    "#### A power-law transformation (gamma correction)"
   ]
  },
  {
   "cell_type": "code",
   "execution_count": 11,
   "metadata": {},
   "outputs": [],
   "source": [
    "import numpy as np\n",
    "\n",
    "\n",
    "def power_transform(img, c=1., gamma=1.):\n",
    "    \n",
    "    img_norm = img / 255.\n",
    "    img_norm_new = c * np.power(img_norm, gamma)\n",
    "    if img_norm_new.max() > 1.:\n",
    "        img_norm_new = img_norm_new / img_norm_new.max()\n",
    "    img_new = img_norm_new * 255\n",
    "        \n",
    "    return img_new"
   ]
  },
  {
   "cell_type": "markdown",
   "metadata": {},
   "source": [
    "### Results"
   ]
  },
  {
   "cell_type": "markdown",
   "metadata": {},
   "source": [
    "#### Processing"
   ]
  },
  {
   "cell_type": "markdown",
   "metadata": {},
   "source": [
    "As usual, load images for processing:"
   ]
  },
  {
   "cell_type": "code",
   "execution_count": 12,
   "metadata": {},
   "outputs": [],
   "source": [
    "import numpy as np\n",
    "from PIL import Image\n",
    "\n",
    "\n",
    "# From R. Gonzales, R. Woods \"Digital Image Processing\"\n",
    "img_21 = Image.open('./mam.tif')\n",
    "# From R. Gonzales, R. Woods \"Digital Image Processing\"\n",
    "img_22 = Image.open('./bone.tif')\n",
    "# Loheland (materials for the course)\n",
    "img_23 = Image.open('./town.jpg')\n",
    "# Loheland (materials for the course)\n",
    "img_24 = Image.open('./snow.jpg')"
   ]
  },
  {
   "cell_type": "code",
   "execution_count": 13,
   "metadata": {},
   "outputs": [
    {
     "name": "stdout",
     "output_type": "stream",
     "text": [
      "1st and 2nd picture dimensions:\n",
      "(571, 482)\n",
      "(976, 746)\n",
      "(2736, 3648, 3)\n",
      "(2736, 3648, 3)\n"
     ]
    }
   ],
   "source": [
    "# represent the images as tensors\n",
    "img_21_np = np.array(img_21)\n",
    "img_22_np = np.array(img_22)\n",
    "img_23_np = np.array(img_23)\n",
    "img_24_np = np.array(img_24)\n",
    "print('1st and 2nd picture dimensions:')\n",
    "print(img_21_np.shape)\n",
    "print(img_22_np.shape)\n",
    "print(img_23_np.shape)\n",
    "print(img_24_np.shape)"
   ]
  },
  {
   "cell_type": "code",
   "execution_count": 14,
   "metadata": {},
   "outputs": [],
   "source": [
    "# negative of a mammogram\n",
    "img_21_np_neg = neg_transform(img_21_np)\n",
    "img_21_neg = Image.fromarray(img_21_np_neg.astype(np.uint8))"
   ]
  },
  {
   "cell_type": "code",
   "execution_count": 15,
   "metadata": {},
   "outputs": [],
   "source": [
    "# log of a fractured spine\n",
    "c = 1.\n",
    "img_22_np_log = log_transform(img_22_np, c)\n",
    "img_22_log = Image.fromarray(img_22_np_log.astype(np.uint8))"
   ]
  },
  {
   "cell_type": "code",
   "execution_count": 16,
   "metadata": {},
   "outputs": [],
   "source": [
    "# Gamma correction of a fractured spine 1\n",
    "c = 1.\n",
    "gamma = .6\n",
    "img_22_np_pow1 = power_transform(img_22_np, c, gamma)\n",
    "img_22_pow1 = Image.fromarray(img_22_np_pow1.astype(np.uint8))"
   ]
  },
  {
   "cell_type": "code",
   "execution_count": 17,
   "metadata": {},
   "outputs": [],
   "source": [
    "# Gamma correction of a fractured spine 2\n",
    "c = 1.\n",
    "gamma = .4\n",
    "img_22_np_pow2 = power_transform(img_22_np, c, gamma)\n",
    "img_22_pow2 = Image.fromarray(img_22_np_pow2.astype(np.uint8))"
   ]
  },
  {
   "cell_type": "code",
   "execution_count": 18,
   "metadata": {},
   "outputs": [],
   "source": [
    "# Gamma correction of a photo with a town on it\n",
    "c = 1.\n",
    "gamma = .8\n",
    "img_23_np_pow = power_transform(img_23_np, c, gamma)\n",
    "img_23_pow = Image.fromarray(img_23_np_pow.astype(np.uint8))"
   ]
  },
  {
   "cell_type": "code",
   "execution_count": 19,
   "metadata": {},
   "outputs": [],
   "source": [
    "# Gamma correction of a photo with a ski slope\n",
    "c = 1.\n",
    "gamma = .7\n",
    "img_24_np_pow = power_transform(img_24_np, c, gamma)\n",
    "img_24_pow = Image.fromarray(img_24_np_pow.astype(np.uint8))"
   ]
  },
  {
   "cell_type": "code",
   "execution_count": 20,
   "metadata": {},
   "outputs": [],
   "source": [
    "# save the results (and originals if necessary) as PNG\n",
    "img_21 = Image.fromarray(img_21_np.astype(np.uint8))\n",
    "img_22 = Image.fromarray(img_22_np.astype(np.uint8))\n",
    "img_23 = Image.fromarray(img_23_np.astype(np.uint8))\n",
    "img_24 = Image.fromarray(img_24_np.astype(np.uint8))\n",
    "img_21_neg.save('./mam_neg.png')\n",
    "img_21.save('./mam.png')\n",
    "img_22_log.save('./bone_log.png')\n",
    "img_22_pow1.save('./bone_pow06.png')\n",
    "img_22_pow2.save('./bone_pow04.png')\n",
    "img_22.save('./bone.png')\n",
    "img_23_pow.save('./town_pow.png')\n",
    "img_24_pow.save('./snow_pow.png')"
   ]
  },
  {
   "cell_type": "markdown",
   "metadata": {},
   "source": [
    "#### Visualization"
   ]
  },
  {
   "cell_type": "markdown",
   "metadata": {},
   "source": [
    "The 1st (a mammogram) image was processed by the negative transformation. \n",
    "The results are shown on the Figure 6.\n",
    "It is more clear now that there is a lesion inside a breast.\n",
    "\n",
    "<p>\n",
    "    <br>\n",
    "    <img src=\"./mam.png\" align=\"left\"/> <img src=\"./mam_neg.png\" align=\"left\"/>\n",
    "    <br>\n",
    "    <br>\n",
    "    <div align=\"center\">\n",
    "        <em>Fig.6: A mammogram before and after a negative transformation</em>\n",
    "    </div>\n",
    "</p>"
   ]
  },
  {
   "cell_type": "markdown",
   "metadata": {},
   "source": [
    "The 2nd (a fractured spine) image was processed by the logarithmic and power transformations. \n",
    "The results are shown on the Figure 7. \n",
    "In comparison with the base 2 logarithmic transformation, the gamma correction provides more powerful saturation, which allows to discern the content of the scan.\n",
    "\n",
    "<p>\n",
    "    <br>\n",
    "    <img src=\"./bone.png\" align=\"left\" style=\"width:50%\"/><img src=\"./bone_log.png\" align=\"left\" style=\"width:50%\"/>\n",
    "    <img src=\"./bone_pow06.png\" align=\"left\" style=\"width:50%\"/><img src=\"./bone_pow04.png\" align=\"left\" style=\"width:50%\"/>\n",
    "    <br>\n",
    "    <br>\n",
    "    <div align=\"center\">\n",
    "        <em>Fig.7: A scan of a fractured spine: a) no transformation, b) logarithmic, c) gamma correction ($\\gamma = 0.6$), d) gamma correction ($\\gamma = 0.4$)</em>\n",
    "    </div>\n",
    "</p>"
   ]
  },
  {
   "cell_type": "markdown",
   "metadata": {},
   "source": [
    "The 3rd and 4th images are photos of a town and a ski slope, which were proecssed with gamma correction. \n",
    "The results are shown on the Figure 8.\n",
    "At first, the images were looking too dark and thus obscure at the dark regions. \n",
    "By application of gamma correction to the photos, the goal of making them appearing nicely was ahieved: this transformation saturated their regions with low light. \n",
    "\n",
    "<p>\n",
    "    <br>\n",
    "    <img src=\"./town.jpg\" align=\"left\" style=\"width:50%\"/><img src=\"./town_pow.png\" align=\"left\" style=\"width:50%\"/>\n",
    "    <img src=\"./snow.jpg\" align=\"left\" style=\"width:50%\"/><img src=\"./snow_pow.png\" align=\"left\" style=\"width:50%\"/>\n",
    "    <br>\n",
    "    <br>\n",
    "    <div align=\"center\">\n",
    "        <em>Fig.8: Photos of a town and a ski slope before and after gamma correction: $\\gamma = 0.8$ and $\\gamma = 0.7$ respectively</em>\n",
    "    </div>\n",
    "</p>"
   ]
  },
  {
   "cell_type": "code",
   "execution_count": null,
   "metadata": {},
   "outputs": [],
   "source": []
  }
 ],
 "metadata": {
  "kernelspec": {
   "display_name": "Python 3",
   "language": "python",
   "name": "python3"
  },
  "language_info": {
   "codemirror_mode": {
    "name": "ipython",
    "version": 3
   },
   "file_extension": ".py",
   "mimetype": "text/x-python",
   "name": "python",
   "nbconvert_exporter": "python",
   "pygments_lexer": "ipython3",
   "version": "3.7.3"
  }
 },
 "nbformat": 4,
 "nbformat_minor": 2
}
