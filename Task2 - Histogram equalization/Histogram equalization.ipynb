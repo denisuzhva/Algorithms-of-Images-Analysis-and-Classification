{
 "cells": [
  {
   "cell_type": "markdown",
   "metadata": {},
   "source": [
    "# Histogram equalization\n",
    "\n",
    "**Author: Uzhva Denis Romanovich**\n",
    "\n",
    "**Lecturer: Soloviev Igor Pavlovich**"
   ]
  },
  {
   "cell_type": "markdown",
   "metadata": {},
   "source": [
    "## Histogram of an image and global equalization\n",
    "### Theory\n",
    "\n",
    "A histogram of an image is a function $h(r_k) = n_k$, which returns the number $n_k$ of pixels of the *k*th intensity value $r_k$. \n",
    "In practice, a normalized variant of such a function is usually considered: $p(r_k) = n_k/HW$, where $H$ and $W$ are image height and width in pixels correspondingly. \n",
    "Being normalized as shown, the function $p(r_k)$ becomes, by definition, a probability distribution function $p_r(r_k)$ of a pixel $r$ to have an intensity level $r_k$.\n",
    "\n",
    "By examining a histogram of an image, one may suggest a conclusion on the balance of bright and dark pixels of the picture. \n",
    "For example, an overexposed image would have a significant bias towards high values of $r_k$ on its histogram; the same can be applied to an opposite case.\n",
    "Thus, a balanced image with fine contrast is supposed to have a uniform distribution $p(r_k)$ or a close to uniform one. \n",
    "\n",
    "Given the above, one may transform an image to obtain a desired shape of a histogram.\n",
    "Such a transformation is called *equalization*: it is basically a function $s = T(r)$ with the following properties:\n",
    "1. $T(r)$ is a strictly monotonically increasing function in the interval $0 \\leq r \\leq L - 1$, where $L - 1$ is the maximum level of intensity of an image.\n",
    "2. $0 \\leq T(r) \\leq L - 1$ for $0 \\leq r \\leq L - 1$.\n",
    "\n",
    "A very important transformation function is the following one:\n",
    "$$\n",
    "\\begin{equation}\n",
    "s = T(r) = (L - 1) \\int_0^r p_r(w)dw.\n",
    "\\tag{1}\n",
    "\\end{equation}\n",
    "$$\n",
    "The main property of such a function that, after this transformation is applied, the PDF $p_s(s)$ becomes uniform with height $\\frac{1}{L - 1}$, independently of $p_r(r)$.\n",
    "This property can be simply derived from the fact that $p_s(s) = p_r(r) | \\frac{r}{s} |$, followed by direct differentiation of the equation $T(r)$. \n",
    "hich can be rewritten for the discrete case like this:\n",
    "$$\n",
    "\\begin{equation}\n",
    "s_k = T(r_k) = (L - 1) \\sum_{j = 0}^k p_r(r_j) = \\frac{L - 1}{HW} \\sum_{j = 0}^k n_j. \n",
    "\\tag{2}\n",
    "\\end{equation}\n",
    "$$"
   ]
  },
  {
   "cell_type": "markdown",
   "metadata": {},
   "source": [
    "### Code"
   ]
  },
  {
   "cell_type": "markdown",
   "metadata": {},
   "source": [
    "#### A histogram maker"
   ]
  },
  {
   "cell_type": "code",
   "execution_count": 1,
   "metadata": {},
   "outputs": [],
   "source": [
    "import numpy as np\n",
    "\n",
    "\n",
    "def im_hist(img, normalize=True):\n",
    "    Lm1 = 256\n",
    "    if len(img.shape) == 3:\n",
    "        channels = img.shape[-1]\n",
    "        hist_arr = np.zeros((channels, Lm1))\n",
    "        for rk in range(Lm1):\n",
    "            where_rk = np.argwhere(img == rk)\n",
    "            for ch in range(channels):\n",
    "                hist_arr[ch, rk] = np.argwhere(where_rk[:, 2] == ch).size\n",
    "    else:\n",
    "        hist_arr = np.zeros((Lm1))\n",
    "        for rk in range(Lm1):\n",
    "            where_rk = np.argwhere(img == rk)\n",
    "            hist_arr[rk] = where_rk.shape[0]\n",
    "            \n",
    "    if normalize:\n",
    "        hist_arr /= (img.shape[0] * img.shape[1])\n",
    "        \n",
    "    return hist_arr"
   ]
  },
  {
   "cell_type": "markdown",
   "metadata": {},
   "source": [
    "#### $T(r)$ as defined in (2)"
   ]
  },
  {
   "cell_type": "code",
   "execution_count": null,
   "metadata": {},
   "outputs": [],
   "source": [
    "import numpy as np\n",
    "\n",
    "\n",
    "def eq_uniform(img):\n",
    "    pass"
   ]
  },
  {
   "cell_type": "code",
   "execution_count": 16,
   "metadata": {},
   "outputs": [],
   "source": [
    "import numpy as np\n",
    "import matplotlib.pyplot as plt\n",
    "from PIL import Image\n",
    "\n",
    "\n",
    "# https://www.reddit.com/r/Minecraft/comments/4xr7bn/seus_shaders_way_too_bright_and_i_dont_know_how/\n",
    "img_2 = Image.open('./mc.png')\n",
    "img_3 = Image.open('./snow.jpg')"
   ]
  },
  {
   "cell_type": "code",
   "execution_count": 17,
   "metadata": {},
   "outputs": [
    {
     "name": "stdout",
     "output_type": "stream",
     "text": [
      "Picture dimensions:\n",
      "(1080, 1920, 3)\n",
      "(2736, 3648, 3)\n"
     ]
    }
   ],
   "source": [
    "# represent the images as tensors\n",
    "img_2_np = np.array(img_2)\n",
    "img_3_np = np.array(img_3)\n",
    "print('Picture dimensions:')\n",
    "print(img_2_np.shape)\n",
    "print(img_3_np.shape)"
   ]
  },
  {
   "cell_type": "code",
   "execution_count": 18,
   "metadata": {},
   "outputs": [],
   "source": [
    "hist_3 = im_hist(img_3_np)"
   ]
  },
  {
   "cell_type": "code",
   "execution_count": 57,
   "metadata": {},
   "outputs": [
    {
     "data": {
      "image/png": "[encoded data removed]",
      "text/plain": [
       "<Figure size 1152x432 with 1 Axes>"
      ]
     },
     "metadata": {
      "needs_background": "light"
     },
     "output_type": "display_data"
    }
   ],
   "source": [
    "plt.figure(figsize=(16, 6))\n",
    "plt.bar(np.arange(256), hist_3[0], width=1., alpha=0.5, color='r')\n",
    "plt.bar(np.arange(256), hist_3[1], width=1., alpha=0.5, color='g')\n",
    "plt.bar(np.arange(256), hist_3[2], width=1., alpha=0.5, color='b')\n",
    "plt.show()"
   ]
  },
  {
   "cell_type": "code",
   "execution_count": null,
   "metadata": {},
   "outputs": [],
   "source": []
  },
  {
   "cell_type": "code",
   "execution_count": null,
   "metadata": {},
   "outputs": [],
   "source": []
  }
 ],
 "metadata": {
  "kernelspec": {
   "display_name": "Python 3",
   "language": "python",
   "name": "python3"
  },
  "language_info": {
   "codemirror_mode": {
    "name": "ipython",
    "version": 3
   },
   "file_extension": ".py",
   "mimetype": "text/x-python",
   "name": "python",
   "nbconvert_exporter": "python",
   "pygments_lexer": "ipython3",
   "version": "3.7.3"
  }
 },
 "nbformat": 4,
 "nbformat_minor": 2
}
